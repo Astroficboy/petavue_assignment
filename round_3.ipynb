{
 "cells": [
  {
   "cell_type": "markdown",
   "id": "48383f8a-0f59-439a-9002-0a74b61cf3e4",
   "metadata": {},
   "source": [
    "First let's try to extract json into csv"
   ]
  },
  {
   "cell_type": "markdown",
   "id": "1f0e9fb1-f13b-4799-8a81-80a097c3176f",
   "metadata": {},
   "source": [
    "I am first trying to do this with only 2017 data, so i will take a flight data for 2017, and weather data for 2017."
   ]
  },
  {
   "cell_type": "code",
   "execution_count": 1,
   "id": "0a9f0fee-4afd-482e-ba54-cc0fb221cc77",
   "metadata": {},
   "outputs": [],
   "source": [
    "import json\n",
    "import csv"
   ]
  },
  {
   "cell_type": "code",
   "execution_count": 2,
   "id": "a8a0dd8d-99ab-48b7-b0dc-e2fc494052ed",
   "metadata": {},
   "outputs": [],
   "source": [
    "json_file = \"petavue/2017-1.json\""
   ]
  },
  {
   "cell_type": "markdown",
   "id": "094ea36e-8fee-451b-bf76-113322069813",
   "metadata": {},
   "source": [
    "Let's try to "
   ]
  },
  {
   "cell_type": "code",
   "execution_count": null,
   "id": "0c38d6de-6f74-4912-ae78-1587afab1163",
   "metadata": {},
   "outputs": [],
   "source": []
  }
 ],
 "metadata": {
  "kernelspec": {
   "display_name": "Python 3 (ipykernel)",
   "language": "python",
   "name": "python3"
  },
  "language_info": {
   "codemirror_mode": {
    "name": "ipython",
    "version": 3
   },
   "file_extension": ".py",
   "mimetype": "text/x-python",
   "name": "python",
   "nbconvert_exporter": "python",
   "pygments_lexer": "ipython3",
   "version": "3.11.5"
  },
  "widgets": {
   "application/vnd.jupyter.widget-state+json": {
    "state": {},
    "version_major": 2,
    "version_minor": 0
   }
  }
 },
 "nbformat": 4,
 "nbformat_minor": 5
}
