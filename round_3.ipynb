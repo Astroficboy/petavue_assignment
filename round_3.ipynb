{
 "cells": [
  {
   "cell_type": "markdown",
   "id": "48383f8a-0f59-439a-9002-0a74b61cf3e4",
   "metadata": {},
   "source": [
    "First let's try to extract json into csv"
   ]
  },
  {
   "cell_type": "markdown",
   "id": "1f0e9fb1-f13b-4799-8a81-80a097c3176f",
   "metadata": {},
   "source": [
    "I am first trying to do this with only 2017 data, so i will take a flight data for 2017, and weather data for 2017."
   ]
  },
  {
   "cell_type": "code",
   "execution_count": 38,
   "id": "0a9f0fee-4afd-482e-ba54-cc0fb221cc77",
   "metadata": {},
   "outputs": [],
   "source": [
    "import json\n",
    "import csv"
   ]
  },
  {
   "cell_type": "code",
   "execution_count": 39,
   "id": "a8a0dd8d-99ab-48b7-b0dc-e2fc494052ed",
   "metadata": {},
   "outputs": [],
   "source": [
    "json_file = \"2017-1.json\"\n",
    "output_csv = \"output.csv\""
   ]
  },
  {
   "cell_type": "markdown",
   "id": "094ea36e-8fee-451b-bf76-113322069813",
   "metadata": {},
   "source": [
    "Let's try to define a function to get json data"
   ]
  },
  {
   "cell_type": "code",
   "execution_count": 46,
   "id": "0c38d6de-6f74-4912-ae78-1587afab1163",
   "metadata": {},
   "outputs": [],
   "source": [
    "def json_to_csv(json_file, csv_file):\n",
    "    with open(json_file, 'r') as json_loader:\n",
    "        data = json.load(json_loader)\n",
    "    with open(csv_file, 'r', newline='') as csv_loader:\n",
    "        with open(csv_loader, 'w', newline='') as csv_writer:\n",
    "            writer = csv.writer(csv_writer)\n",
    "            writer.writerow([\"Time\", \"Temperature(C)\", \"Temperature(F)\", \"FeelsLike(C)\", \"FeelsLike(F)\", \"DewPoint(C)\", \"DewPoint(F)\", \n",
    "                             \"Humidity\", \"WindSpeed(Kmph)\", \"WindSpeed(Miles)\", \"WindGust(Kmph)\", \"WindGust(Miles)\", \"WindDirection(Degree)\", \n",
    "                             \"WindDirection(16Point)\", \"WindChill(C)\", \"WindChill(F)\", \"HeatIndex(C)\", \"HeatIndex(F)\", \"Pressure\", \n",
    "                             \"Precipitation(mm)\", \"CloudCover\", \"Visibility\", \"WeatherCode\", \"WeatherDescription\", \"WeatherIconUrl\"])\n",
    "\n",
    "    for idx in range(len(data['data']['weather'])):\n",
    "        for hour in data['data']['weather'][idx]['hourly']:\n",
    "                writer.writerow([\n",
    "                    hour['time'],\n",
    "                    hour['tempC'],\n",
    "                    hour['tempF'],\n",
    "                    hour['FeelsLikeC'],\n",
    "                    hour['FeelsLikeF'],\n",
    "                    hour['DewPointC'],\n",
    "                    hour['DewPointF'],\n",
    "                    hour['humidity'],\n",
    "                    hour['windspeedKmph'],\n",
    "                    hour['windspeedMiles'],\n",
    "                    hour['WindGustKmph'],\n",
    "                    hour['WindGustMiles'],\n",
    "                    hour['winddirDegree'],\n",
    "                    hour['winddir16Point'],\n",
    "                    hour['WindChillC'],\n",
    "                    hour['WindChillF'],\n",
    "                    hour['HeatIndexC'],\n",
    "                    hour['HeatIndexF'],\n",
    "                    hour['pressure'],\n",
    "                    hour['precipMM'],\n",
    "                    hour['cloudcover'],\n",
    "                    hour['visibility'],\n",
    "                    hour['weatherCode'],\n",
    "                    hour['weatherDesc'][0]['value'],\n",
    "                    hour['weatherIconUrl'][0]['value']\n",
    "            ])"
   ]
  },
  {
   "cell_type": "code",
   "execution_count": 47,
   "id": "e1e0a8da-05b4-4e3c-94a4-b9004898d616",
   "metadata": {},
   "outputs": [
    {
     "ename": "TypeError",
     "evalue": "expected str, bytes or os.PathLike object, not TextIOWrapper",
     "output_type": "error",
     "traceback": [
      "\u001b[1;31m---------------------------------------------------------------------------\u001b[0m",
      "\u001b[1;31mTypeError\u001b[0m                                 Traceback (most recent call last)",
      "Cell \u001b[1;32mIn[47], line 1\u001b[0m\n\u001b[1;32m----> 1\u001b[0m \u001b[43mjson_to_csv\u001b[49m\u001b[43m(\u001b[49m\u001b[43mjson_file\u001b[49m\u001b[43m,\u001b[49m\u001b[43m \u001b[49m\u001b[43moutput_csv\u001b[49m\u001b[43m)\u001b[49m\n",
      "Cell \u001b[1;32mIn[46], line 5\u001b[0m, in \u001b[0;36mjson_to_csv\u001b[1;34m(json_file, csv_file)\u001b[0m\n\u001b[0;32m      3\u001b[0m     data \u001b[38;5;241m=\u001b[39m json\u001b[38;5;241m.\u001b[39mload(json_loader)\n\u001b[0;32m      4\u001b[0m \u001b[38;5;28;01mwith\u001b[39;00m \u001b[38;5;28mopen\u001b[39m(csv_file, \u001b[38;5;124m'\u001b[39m\u001b[38;5;124mr\u001b[39m\u001b[38;5;124m'\u001b[39m, newline\u001b[38;5;241m=\u001b[39m\u001b[38;5;124m'\u001b[39m\u001b[38;5;124m'\u001b[39m) \u001b[38;5;28;01mas\u001b[39;00m csv_loader:\n\u001b[1;32m----> 5\u001b[0m     \u001b[38;5;28;01mwith\u001b[39;00m \u001b[38;5;28;43mopen\u001b[39;49m\u001b[43m(\u001b[49m\u001b[43mcsv_loader\u001b[49m\u001b[43m,\u001b[49m\u001b[43m \u001b[49m\u001b[38;5;124;43m'\u001b[39;49m\u001b[38;5;124;43mw\u001b[39;49m\u001b[38;5;124;43m'\u001b[39;49m\u001b[43m,\u001b[49m\u001b[43m \u001b[49m\u001b[43mnewline\u001b[49m\u001b[38;5;241;43m=\u001b[39;49m\u001b[38;5;124;43m'\u001b[39;49m\u001b[38;5;124;43m'\u001b[39;49m\u001b[43m)\u001b[49m \u001b[38;5;28;01mas\u001b[39;00m csv_writer:\n\u001b[0;32m      6\u001b[0m         writer \u001b[38;5;241m=\u001b[39m csv\u001b[38;5;241m.\u001b[39mwriter(csv_writer)\n\u001b[0;32m      7\u001b[0m         writer\u001b[38;5;241m.\u001b[39mwriterow([\u001b[38;5;124m\"\u001b[39m\u001b[38;5;124mTime\u001b[39m\u001b[38;5;124m\"\u001b[39m, \u001b[38;5;124m\"\u001b[39m\u001b[38;5;124mTemperature(C)\u001b[39m\u001b[38;5;124m\"\u001b[39m, \u001b[38;5;124m\"\u001b[39m\u001b[38;5;124mTemperature(F)\u001b[39m\u001b[38;5;124m\"\u001b[39m, \u001b[38;5;124m\"\u001b[39m\u001b[38;5;124mFeelsLike(C)\u001b[39m\u001b[38;5;124m\"\u001b[39m, \u001b[38;5;124m\"\u001b[39m\u001b[38;5;124mFeelsLike(F)\u001b[39m\u001b[38;5;124m\"\u001b[39m, \u001b[38;5;124m\"\u001b[39m\u001b[38;5;124mDewPoint(C)\u001b[39m\u001b[38;5;124m\"\u001b[39m, \u001b[38;5;124m\"\u001b[39m\u001b[38;5;124mDewPoint(F)\u001b[39m\u001b[38;5;124m\"\u001b[39m, \n\u001b[0;32m      8\u001b[0m                          \u001b[38;5;124m\"\u001b[39m\u001b[38;5;124mHumidity\u001b[39m\u001b[38;5;124m\"\u001b[39m, \u001b[38;5;124m\"\u001b[39m\u001b[38;5;124mWindSpeed(Kmph)\u001b[39m\u001b[38;5;124m\"\u001b[39m, \u001b[38;5;124m\"\u001b[39m\u001b[38;5;124mWindSpeed(Miles)\u001b[39m\u001b[38;5;124m\"\u001b[39m, \u001b[38;5;124m\"\u001b[39m\u001b[38;5;124mWindGust(Kmph)\u001b[39m\u001b[38;5;124m\"\u001b[39m, \u001b[38;5;124m\"\u001b[39m\u001b[38;5;124mWindGust(Miles)\u001b[39m\u001b[38;5;124m\"\u001b[39m, \u001b[38;5;124m\"\u001b[39m\u001b[38;5;124mWindDirection(Degree)\u001b[39m\u001b[38;5;124m\"\u001b[39m, \n\u001b[0;32m      9\u001b[0m                          \u001b[38;5;124m\"\u001b[39m\u001b[38;5;124mWindDirection(16Point)\u001b[39m\u001b[38;5;124m\"\u001b[39m, \u001b[38;5;124m\"\u001b[39m\u001b[38;5;124mWindChill(C)\u001b[39m\u001b[38;5;124m\"\u001b[39m, \u001b[38;5;124m\"\u001b[39m\u001b[38;5;124mWindChill(F)\u001b[39m\u001b[38;5;124m\"\u001b[39m, \u001b[38;5;124m\"\u001b[39m\u001b[38;5;124mHeatIndex(C)\u001b[39m\u001b[38;5;124m\"\u001b[39m, \u001b[38;5;124m\"\u001b[39m\u001b[38;5;124mHeatIndex(F)\u001b[39m\u001b[38;5;124m\"\u001b[39m, \u001b[38;5;124m\"\u001b[39m\u001b[38;5;124mPressure\u001b[39m\u001b[38;5;124m\"\u001b[39m, \n\u001b[0;32m     10\u001b[0m                          \u001b[38;5;124m\"\u001b[39m\u001b[38;5;124mPrecipitation(mm)\u001b[39m\u001b[38;5;124m\"\u001b[39m, \u001b[38;5;124m\"\u001b[39m\u001b[38;5;124mCloudCover\u001b[39m\u001b[38;5;124m\"\u001b[39m, \u001b[38;5;124m\"\u001b[39m\u001b[38;5;124mVisibility\u001b[39m\u001b[38;5;124m\"\u001b[39m, \u001b[38;5;124m\"\u001b[39m\u001b[38;5;124mWeatherCode\u001b[39m\u001b[38;5;124m\"\u001b[39m, \u001b[38;5;124m\"\u001b[39m\u001b[38;5;124mWeatherDescription\u001b[39m\u001b[38;5;124m\"\u001b[39m, \u001b[38;5;124m\"\u001b[39m\u001b[38;5;124mWeatherIconUrl\u001b[39m\u001b[38;5;124m\"\u001b[39m])\n",
      "File \u001b[1;32m~\\AppData\\Roaming\\Python\\Python311\\site-packages\\IPython\\core\\interactiveshell.py:310\u001b[0m, in \u001b[0;36m_modified_open\u001b[1;34m(file, *args, **kwargs)\u001b[0m\n\u001b[0;32m    303\u001b[0m \u001b[38;5;28;01mif\u001b[39;00m file \u001b[38;5;129;01min\u001b[39;00m {\u001b[38;5;241m0\u001b[39m, \u001b[38;5;241m1\u001b[39m, \u001b[38;5;241m2\u001b[39m}:\n\u001b[0;32m    304\u001b[0m     \u001b[38;5;28;01mraise\u001b[39;00m \u001b[38;5;167;01mValueError\u001b[39;00m(\n\u001b[0;32m    305\u001b[0m         \u001b[38;5;124mf\u001b[39m\u001b[38;5;124m\"\u001b[39m\u001b[38;5;124mIPython won\u001b[39m\u001b[38;5;124m'\u001b[39m\u001b[38;5;124mt let you open fd=\u001b[39m\u001b[38;5;132;01m{\u001b[39;00mfile\u001b[38;5;132;01m}\u001b[39;00m\u001b[38;5;124m by default \u001b[39m\u001b[38;5;124m\"\u001b[39m\n\u001b[0;32m    306\u001b[0m         \u001b[38;5;124m\"\u001b[39m\u001b[38;5;124mas it is likely to crash IPython. If you know what you are doing, \u001b[39m\u001b[38;5;124m\"\u001b[39m\n\u001b[0;32m    307\u001b[0m         \u001b[38;5;124m\"\u001b[39m\u001b[38;5;124myou can use builtins\u001b[39m\u001b[38;5;124m'\u001b[39m\u001b[38;5;124m open.\u001b[39m\u001b[38;5;124m\"\u001b[39m\n\u001b[0;32m    308\u001b[0m     )\n\u001b[1;32m--> 310\u001b[0m \u001b[38;5;28;01mreturn\u001b[39;00m \u001b[43mio_open\u001b[49m\u001b[43m(\u001b[49m\u001b[43mfile\u001b[49m\u001b[43m,\u001b[49m\u001b[43m \u001b[49m\u001b[38;5;241;43m*\u001b[39;49m\u001b[43margs\u001b[49m\u001b[43m,\u001b[49m\u001b[43m \u001b[49m\u001b[38;5;241;43m*\u001b[39;49m\u001b[38;5;241;43m*\u001b[39;49m\u001b[43mkwargs\u001b[49m\u001b[43m)\u001b[49m\n",
      "\u001b[1;31mTypeError\u001b[0m: expected str, bytes or os.PathLike object, not TextIOWrapper"
     ]
    }
   ],
   "source": [
    "json_to_csv(json_file, output_csv)"
   ]
  },
  {
   "cell_type": "code",
   "execution_count": null,
   "id": "917fb148-ecaf-450b-b935-6b5574417bd4",
   "metadata": {},
   "outputs": [],
   "source": []
  }
 ],
 "metadata": {
  "kernelspec": {
   "display_name": "Python 3 (ipykernel)",
   "language": "python",
   "name": "python3"
  },
  "language_info": {
   "codemirror_mode": {
    "name": "ipython",
    "version": 3
   },
   "file_extension": ".py",
   "mimetype": "text/x-python",
   "name": "python",
   "nbconvert_exporter": "python",
   "pygments_lexer": "ipython3",
   "version": "3.11.5"
  },
  "widgets": {
   "application/vnd.jupyter.widget-state+json": {
    "state": {},
    "version_major": 2,
    "version_minor": 0
   }
  }
 },
 "nbformat": 4,
 "nbformat_minor": 5
}
